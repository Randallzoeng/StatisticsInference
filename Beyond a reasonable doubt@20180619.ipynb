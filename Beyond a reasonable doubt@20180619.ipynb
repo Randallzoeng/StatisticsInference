{
 "cells": [
  {
   "cell_type": "markdown",
   "metadata": {},
   "source": [
    "![](http://upload.ouliu.net/i/20180615122452x8lwx.jpeg)\n",
    "\n",
    "# [Putting a Value to ‘Real’ in Medical Research](https://www.nytimes.com/2013/03/12/science/putting-a-value-to-real-in-medical-research.html)\n",
    "\n",
    ">This number (the p stands for probability) is arrived at through a complex calculation designed to quantify the probability that the results of an experiment were not due to chance. The possibility of a random result can never be completely eliminated, but for medical researchers the p-value is the accepted measure of whether the drug or procedure under study is having an effect. By convention, a p-value higher than 0.05 usually indicates that the results of the study, however good or bad, were probably due only to chance.\n",
    "\n",
    ">There is considerable complexity in understanding the meaning of the p-value, and many subtleties in interpreting it. For various good reasons, the 0.05 convention has its detractors. But it is enough to say that a p-value provides a degree of assurance, not certainty. In medical research, certainty is very hard to come by. - NYT"
   ]
  },
  {
   "cell_type": "markdown",
   "metadata": {},
   "source": [
    "# [About that p-value article…](https://hilaryparker.com/2013/03/12/about-that-pvalue-article/)\n",
    "\n",
    "> Hilary Parker:\n",
    "\n",
    ">The correct interpretation for a p-value greater than 0.05 is “we cannot reject the null hypothesis” which can mean many things (for example, we did not collect enough data).\n",
    "\n",
    ">In the US judicial system, a person on trial is “innocent until proven guilty.” Similarly, in a clinical trial for a new drug, the drug must be assumed ineffective until “proven” effective. And just like in the courts, the definition of “proven” is fuzzy. Jurors must believe “beyond a reasonable doubt” that someone is guilty to convict. In medicine, the p-value is one attempt at summarizing whether or not a drug has been shown to be effective “beyond a reasonable doubt.” Medicine is set up like the court system for good reason — we want to avoid claiming that ineffective drugs are effective, just like we want to avoid locking up innocent people.\n",
    "\n",
    "> To understand whether or not a drug has been shown to be effective “beyond a reasonable doubt” we must understand the purpose of a clinical trial. A clinical trial provides an understanding of the possible improvements that a drug can cause in two ways: \n",
    " - (1) it shows the average improvement that the drug gives, and \n",
    " - (2) it accounts for the variance in that average improvement (which is determined by the number of patients in the trial as well as the true variation in the improvements that the drug causes).\n",
    "\n",
    "> So, to put things back in terms of the p-value: let’s say that someone reports that NewDrug is shown to increase healthiness points by 10 points on average, with a p-value of 0.01. The p-value provides some context for whether or not an average increase of 10 points in this trial is “good” enough for the drug to be called effective, and is calculated by looking at both the average improvement, and the variance in improvements for different patients in the trial (while also controlling for the number of people in the trial). The correct way to interpret a p-value of 0.01 is: “If in reality NewDrug is NOT effective, then the probability of seeing an average increase in healthiness points at least this big if we repeated this trial is 1% (0.01*100).” The convention is that that’s a low enough probability to say that NewDrug has been shown to be effective “beyond a reasonable doubt” since it is less than 5%. (Many, many statisticians loathe this cut-off, but it is the standard for now.)\n",
    "\n",
    ">A key thing to understand about the p-value in a clinical trial is that a p-value greater than 0.05 doesn’t “prove” that NewDrug is ineffective — it just means that NewDrug wasn’t shown to be effective in the clinical trial. We can all think of examples of court cases where the person was probably guilty, but was not convicted (OJ Simpson, anyone?). Similarly with the p-value, if a trial reports a p-value greater than 0.05, it doesn’t “prove” that the drug is ineffective. It just means that researchers failed to show that the drug was effective “beyond a reasonable doubt” in the trial. Perhaps the drug really is ineffective, or perhaps the researchers simply did not gather enough samples to make a convincing case."
   ]
  },
  {
   "cell_type": "markdown",
   "metadata": {},
   "source": [
    "# [When differences in significance aren’t significant differences](https://www.statisticsdonewrong.com/significant-differences.html)\n",
    "\n",
    "> However, a difference in significance does not always make a significant difference.\n",
    "\n",
    "> One reason is the arbitrary nature of the p<0.05 cutoff. We could get two very similar results, with p=0.04 and p=0.06, and mistakenly say they’re clearly different from each other simply because they fall on opposite sides of the cutoff. The second reason is that p values are not measures of effect size, so similar p values do not always mean similar effects. Two results with identical statistical significance can nonetheless contradict each other.\n"
   ]
  },
  {
   "cell_type": "markdown",
   "metadata": {},
   "source": [
    "I found it's really interesting for Hilary ([**About that p-value article…**](https://hilaryparker.com/2013/03/12/about-that-pvalue-article/)) to relate **Hypothesis Test** to **Reasonable doubt**. \n",
    "Also I draw this quadrant to help me understand better. There seem some similarity between Hypothesis Test and Confusion Matrix \n",
    "![](http://upload.ouliu.net/i/20180615114509hawu5.png)"
   ]
  },
  {
   "cell_type": "markdown",
   "metadata": {},
   "source": [
    "**衍生阅读**\n",
    "\n",
    "\n",
    "**参考文献**\n",
    "- [Putting a Value to ‘Real’ in Medical Research](https://www.nytimes.com/2013/03/12/science/putting-a-value-to-real-in-medical-research.html)\n",
    "- [About that p-value article…](https://hilaryparker.com/2013/03/12/about-that-pvalue-article/)\n",
    "- [R in Action](http://www.ituring.com.cn/book/1699)\n",
    "- [Statistics Done Wrong](https://www.statisticsdonewrong.com/significant-differences.html)\n",
    "- [Think Stats](http://www.ituring.com.cn/book/1555)\n",
    "\n",
    "**图片来源**：[Putting a Value to ‘Real’ in Medical Research](https://www.nytimes.com/2013/03/12/science/putting-a-value-to-real-in-medical-research.html)\n"
   ]
  }
 ],
 "metadata": {
  "anaconda-cloud": {},
  "kernelspec": {
   "display_name": "R",
   "language": "R",
   "name": "ir"
  },
  "language_info": {
   "codemirror_mode": "r",
   "file_extension": ".r",
   "mimetype": "text/x-r-source",
   "name": "R",
   "pygments_lexer": "r",
   "version": "3.5.0"
  },
  "latex_envs": {
   "LaTeX_envs_menu_present": true,
   "autocomplete": true,
   "bibliofile": "biblio.bib",
   "cite_by": "apalike",
   "current_citInitial": 1,
   "eqLabelWithNumbers": true,
   "eqNumInitial": 1,
   "hotkeys": {
    "equation": "Ctrl-E",
    "itemize": "Ctrl-I"
   },
   "labels_anchors": false,
   "latex_user_defs": false,
   "report_style_numbering": false,
   "user_envs_cfg": false
  },
  "toc": {
   "base_numbering": 1,
   "nav_menu": {},
   "number_sections": true,
   "sideBar": true,
   "skip_h1_title": false,
   "title_cell": "Table of Contents",
   "title_sidebar": "Contents",
   "toc_cell": false,
   "toc_position": {},
   "toc_section_display": "block",
   "toc_window_display": false
  }
 },
 "nbformat": 4,
 "nbformat_minor": 2
}
