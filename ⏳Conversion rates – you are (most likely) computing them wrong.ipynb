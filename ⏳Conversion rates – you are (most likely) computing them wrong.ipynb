{
 "cells": [
  {
   "cell_type": "markdown",
   "metadata": {},
   "source": [
    "[`Conversion rates – you are (most likely) computing them wrong`](https://erikbern.com/2017/05/23/conversion-rates-you-are-most-likely-computing-them-wrong.html)\n",
    "\n",
    "[國內投資機構退出率排行榜單](http://mini.eastday.com/bdmip/180224005021067.html)\n",
    "\n",
    "[Step and jump lines](https://mp.weixin.qq.com/s/7C9zSEHkZJUYxGIxmuK0Vw)\n",
    "\n",
    "[#TakeapartTuesday – Stepped Lines](https://learningtableaublog.wordpress.com/2018/02/12/takeaparttuesday-stepped-lines/)\n",
    "\n",
    "[Lifelines Packages](https://github.com/CamDavidsonPilon/lifelines)\n",
    "\n",
    "[Arthur Allignol and Aurelien Latouche](https://cran.r-project.org/web/views/Survival.html)"
   ]
  },
  {
   "cell_type": "code",
   "execution_count": 7,
   "metadata": {},
   "outputs": [
    {
     "data": {
      "text/plain": [
       "'0.15.3'"
      ]
     },
     "execution_count": 7,
     "metadata": {},
     "output_type": "execute_result"
    }
   ],
   "source": [
    "import lifelines\n",
    "lifelines.__version__"
   ]
  },
  {
   "cell_type": "markdown",
   "metadata": {},
   "source": [
    "`https://lifelines.readthedocs.io/en/latest/Survival%20Analysis%20intro.html`\n",
    "\n",
    "> Another example is users subscribing to a service: a birth is a user who joins the service, and a death is when the user leaves the service. \n",
    "\n",
    "> The individuals in a population who have not been subject to the death event are labeled as right-censored, i.e., we did not (or can not) view the rest of their life history due to some external circumstances. All the information we have on these individuals are their current lifetime durations (which is naturally less than their actual lifetimes).\n",
    "\n",
    ">Consider a case where the population is actually made up of two subpopulations, A and B. Population A has a very small lifespan, say 2 months on average, and population B enjoys a much larger lifespan, say 12 months on average. We may not know this distinction before hand. At t=10, we wish to investigate the average lifespan for everyone."
   ]
  },
  {
   "cell_type": "markdown",
   "metadata": {},
   "source": [
    "🚶`Walkthought`\n",
    "\n",
    "⚕️[Estimating the Survival function using Kaplan-Meier](https://lifelines.readthedocs.io/en/latest/Survival%20analysis%20with%20lifelines.html)"
   ]
  },
  {
   "cell_type": "code",
   "execution_count": 8,
   "metadata": {},
   "outputs": [],
   "source": [
    "import pandas as pd\n",
    "from lifelines.datasets import load_dd\n",
    "\n",
    "data = load_dd()"
   ]
  },
  {
   "cell_type": "code",
   "execution_count": 9,
   "metadata": {
    "scrolled": true
   },
   "outputs": [
    {
     "data": {
      "text/html": [
       "<div>\n",
       "<style scoped>\n",
       "    .dataframe tbody tr th:only-of-type {\n",
       "        vertical-align: middle;\n",
       "    }\n",
       "\n",
       "    .dataframe tbody tr th {\n",
       "        vertical-align: top;\n",
       "    }\n",
       "\n",
       "    .dataframe thead th {\n",
       "        text-align: right;\n",
       "    }\n",
       "</style>\n",
       "<table border=\"1\" class=\"dataframe\">\n",
       "  <thead>\n",
       "    <tr style=\"text-align: right;\">\n",
       "      <th></th>\n",
       "      <th>ctryname</th>\n",
       "      <th>cowcode2</th>\n",
       "      <th>politycode</th>\n",
       "      <th>un_region_name</th>\n",
       "      <th>un_continent_name</th>\n",
       "      <th>ehead</th>\n",
       "      <th>leaderspellreg</th>\n",
       "      <th>democracy</th>\n",
       "      <th>regime</th>\n",
       "      <th>start_year</th>\n",
       "      <th>duration</th>\n",
       "      <th>observed</th>\n",
       "    </tr>\n",
       "  </thead>\n",
       "  <tbody>\n",
       "    <tr>\n",
       "      <th>464</th>\n",
       "      <td>Ecuador</td>\n",
       "      <td>130</td>\n",
       "      <td>130.0</td>\n",
       "      <td>South America</td>\n",
       "      <td>Americas</td>\n",
       "      <td>Rafael Correa</td>\n",
       "      <td>Rafael Correa.Ecuador.2007.2008.Presidential Dem</td>\n",
       "      <td>Democracy</td>\n",
       "      <td>Presidential Dem</td>\n",
       "      <td>2007</td>\n",
       "      <td>2</td>\n",
       "      <td>0</td>\n",
       "    </tr>\n",
       "    <tr>\n",
       "      <th>316</th>\n",
       "      <td>Colombia</td>\n",
       "      <td>100</td>\n",
       "      <td>100.0</td>\n",
       "      <td>South America</td>\n",
       "      <td>Americas</td>\n",
       "      <td>Alfonso Lopez Michelson</td>\n",
       "      <td>Alfonso Lopez Michelson.Colombia.1974.1977.Pre...</td>\n",
       "      <td>Democracy</td>\n",
       "      <td>Presidential Dem</td>\n",
       "      <td>1974</td>\n",
       "      <td>4</td>\n",
       "      <td>1</td>\n",
       "    </tr>\n",
       "    <tr>\n",
       "      <th>1357</th>\n",
       "      <td>Sao Tome and Principe</td>\n",
       "      <td>403</td>\n",
       "      <td>403.0</td>\n",
       "      <td>Middle Africa</td>\n",
       "      <td>Africa</td>\n",
       "      <td>Joaquim Rafael Branco</td>\n",
       "      <td>Joaquim Rafael Branco.Sao Tome and Principe.20...</td>\n",
       "      <td>Democracy</td>\n",
       "      <td>Mixed Dem</td>\n",
       "      <td>2008</td>\n",
       "      <td>1</td>\n",
       "      <td>0</td>\n",
       "    </tr>\n",
       "    <tr>\n",
       "      <th>376</th>\n",
       "      <td>Cuba</td>\n",
       "      <td>40</td>\n",
       "      <td>40.0</td>\n",
       "      <td>Caribbean</td>\n",
       "      <td>Americas</td>\n",
       "      <td>Raul Castro</td>\n",
       "      <td>Raul Castro.Cuba.2006.2008.Military Dict</td>\n",
       "      <td>Non-democracy</td>\n",
       "      <td>Military Dict</td>\n",
       "      <td>2006</td>\n",
       "      <td>3</td>\n",
       "      <td>0</td>\n",
       "    </tr>\n",
       "    <tr>\n",
       "      <th>1098</th>\n",
       "      <td>Nauru</td>\n",
       "      <td>970</td>\n",
       "      <td>970.0</td>\n",
       "      <td>Micronesia</td>\n",
       "      <td>Oceania</td>\n",
       "      <td>Rene Harris</td>\n",
       "      <td>Rene Harris.Nauru.2001.2003.Parliamentary Dem</td>\n",
       "      <td>Democracy</td>\n",
       "      <td>Parliamentary Dem</td>\n",
       "      <td>2001</td>\n",
       "      <td>3</td>\n",
       "      <td>1</td>\n",
       "    </tr>\n",
       "    <tr>\n",
       "      <th>646</th>\n",
       "      <td>Guatemala</td>\n",
       "      <td>90</td>\n",
       "      <td>90.0</td>\n",
       "      <td>Central America</td>\n",
       "      <td>Americas</td>\n",
       "      <td>Marco Vinicio Cerezo Arevalo</td>\n",
       "      <td>Marco Vinicio Cerezo Arevalo.Guatemala.1986.19...</td>\n",
       "      <td>Democracy</td>\n",
       "      <td>Presidential Dem</td>\n",
       "      <td>1986</td>\n",
       "      <td>5</td>\n",
       "      <td>1</td>\n",
       "    </tr>\n",
       "  </tbody>\n",
       "</table>\n",
       "</div>"
      ],
      "text/plain": [
       "                   ctryname  cowcode2  politycode   un_region_name  \\\n",
       "464                 Ecuador       130       130.0    South America   \n",
       "316                Colombia       100       100.0    South America   \n",
       "1357  Sao Tome and Principe       403       403.0    Middle Africa   \n",
       "376                    Cuba        40        40.0        Caribbean   \n",
       "1098                  Nauru       970       970.0       Micronesia   \n",
       "646               Guatemala        90        90.0  Central America   \n",
       "\n",
       "     un_continent_name                         ehead  \\\n",
       "464           Americas                 Rafael Correa   \n",
       "316           Americas       Alfonso Lopez Michelson   \n",
       "1357            Africa         Joaquim Rafael Branco   \n",
       "376           Americas                   Raul Castro   \n",
       "1098           Oceania                   Rene Harris   \n",
       "646           Americas  Marco Vinicio Cerezo Arevalo   \n",
       "\n",
       "                                         leaderspellreg      democracy  \\\n",
       "464    Rafael Correa.Ecuador.2007.2008.Presidential Dem      Democracy   \n",
       "316   Alfonso Lopez Michelson.Colombia.1974.1977.Pre...      Democracy   \n",
       "1357  Joaquim Rafael Branco.Sao Tome and Principe.20...      Democracy   \n",
       "376            Raul Castro.Cuba.2006.2008.Military Dict  Non-democracy   \n",
       "1098      Rene Harris.Nauru.2001.2003.Parliamentary Dem      Democracy   \n",
       "646   Marco Vinicio Cerezo Arevalo.Guatemala.1986.19...      Democracy   \n",
       "\n",
       "                 regime  start_year  duration  observed  \n",
       "464    Presidential Dem        2007         2         0  \n",
       "316    Presidential Dem        1974         4         1  \n",
       "1357          Mixed Dem        2008         1         0  \n",
       "376       Military Dict        2006         3         0  \n",
       "1098  Parliamentary Dem        2001         3         1  \n",
       "646    Presidential Dem        1986         5         1  "
      ]
     },
     "execution_count": 9,
     "metadata": {},
     "output_type": "execute_result"
    }
   ],
   "source": [
    "data.sample(6)"
   ]
  },
  {
   "cell_type": "code",
   "execution_count": 12,
   "metadata": {},
   "outputs": [],
   "source": [
    "from lifelines import KaplanMeierFitter\n",
    "kmf = KaplanMeierFitter()"
   ]
  },
  {
   "cell_type": "code",
   "execution_count": 13,
   "metadata": {},
   "outputs": [
    {
     "data": {
      "text/plain": [
       "<lifelines.KaplanMeierFitter: fitted with 1808 observations, 340 censored>"
      ]
     },
     "execution_count": 13,
     "metadata": {},
     "output_type": "execute_result"
    }
   ],
   "source": [
    "T = data['duration']\n",
    "E = data['observed']\n",
    "\n",
    "kmf.fit(T,event_observed=E)"
   ]
  },
  {
   "cell_type": "code",
   "execution_count": 20,
   "metadata": {},
   "outputs": [
    {
     "data": {
      "text/plain": [
       "Text(0.5,1,'Survival function of political regimes')"
      ]
     },
     "execution_count": 20,
     "metadata": {},
     "output_type": "execute_result"
    },
    {
     "data": {
      "image/png": "[encoded data removed]",
      "text/plain": [
       "<Figure size 432x288 with 1 Axes>"
      ]
     },
     "metadata": {},
     "output_type": "display_data"
    }
   ],
   "source": [
    "%matplotlib inline\n",
    "import matplotlib.pyplot as plt\n",
    "import seaborn as sns; sns.set()\n",
    "\n",
    "# kmf.survival_function_.plot()\n",
    "kmf.plot()\n",
    "plt.title(\"Survival function of political regimes\")"
   ]
  },
  {
   "cell_type": "code",
   "execution_count": 23,
   "metadata": {},
   "outputs": [
    {
     "data": {
      "image/png": "[encoded data removed]",
      "text/plain": [
       "<Figure size 432x288 with 1 Axes>"
      ]
     },
     "metadata": {},
     "output_type": "display_data"
    }
   ],
   "source": [
    "ax = plt.subplot(111)\n",
    "\n",
    "dem = (data[\"democracy\"] == \"Democracy\")\n",
    "kmf.fit(T[dem], event_observed=E[dem], label=\"Democratic Regimes\")\n",
    "kmf.plot(ax=ax, ci_force_lines=True)\n",
    "kmf.fit(T[~dem], event_observed=E[~dem], label=\"Non-democratic Regimes\")\n",
    "kmf.plot(ax=ax, ci_force_lines=True)\n",
    "\n",
    "plt.ylim(0, 1);\n",
    "plt.title(\"Lifespans of different global regimes\");"
   ]
  },
  {
   "cell_type": "code",
   "execution_count": 25,
   "metadata": {},
   "outputs": [
    {
     "name": "stdout",
     "output_type": "stream",
     "text": [
      "Median survival time of democratic: 3.0\n",
      "Median survival time of non-democratic: 6.0\n"
     ]
    },
    {
     "data": {
      "image/png": "[encoded data removed]",
      "text/plain": [
       "<Figure size 432x288 with 1 Axes>"
      ]
     },
     "metadata": {},
     "output_type": "display_data"
    }
   ],
   "source": [
    "import numpy as np\n",
    "ax = plt.subplot(111)\n",
    "\n",
    "t = np.linspace(0, 50, 51)\n",
    "kmf.fit(T[dem], event_observed=E[dem], timeline=t, label=\"Democratic Regimes\")\n",
    "ax = kmf.plot(ax=ax)\n",
    "print(\"Median survival time of democratic:\", kmf.median_)\n",
    "\n",
    "kmf.fit(T[~dem], event_observed=E[~dem], timeline=t, label=\"Non-democratic Regimes\")\n",
    "ax = kmf.plot(ax=ax)\n",
    "print(\"Median survival time of non-democratic:\", kmf.median_)\n",
    "\n",
    "plt.ylim(0,1)\n",
    "plt.title(\"Lifespans of different global regimes\");"
   ]
  },
  {
   "cell_type": "markdown",
   "metadata": {},
   "source": [
    ">It is incredible how much longer these non-democratic regimes exist for. A democratic regime does have a natural bias towards death though: both via elections and natural limits (the US imposes a strict eight-year limit). The median of a non-democratic is only about twice as large as a democratic regime, but the difference is apparent in the tails: if you’re a non-democratic leader, and you’ve made it past the 10 year mark, you probably have a long life ahead. Meanwhile, a democratic leader rarely makes it past ten years, and then have a very short lifetime past that."
   ]
  }
 ],
 "metadata": {
  "kernelspec": {
   "display_name": "Python 3",
   "language": "python",
   "name": "python3"
  },
  "language_info": {
   "codemirror_mode": {
    "name": "ipython",
    "version": 3
   },
   "file_extension": ".py",
   "mimetype": "text/x-python",
   "name": "python",
   "nbconvert_exporter": "python",
   "pygments_lexer": "ipython3",
   "version": "3.6.5"
  },
  "latex_envs": {
   "LaTeX_envs_menu_present": true,
   "autoclose": false,
   "autocomplete": true,
   "bibliofile": "biblio.bib",
   "cite_by": "apalike",
   "current_citInitial": 1,
   "eqLabelWithNumbers": true,
   "eqNumInitial": 1,
   "hotkeys": {
    "equation": "Ctrl-E",
    "itemize": "Ctrl-I"
   },
   "labels_anchors": false,
   "latex_user_defs": false,
   "report_style_numbering": false,
   "user_envs_cfg": false
  },
  "toc": {
   "base_numbering": 1,
   "nav_menu": {},
   "number_sections": true,
   "sideBar": true,
   "skip_h1_title": false,
   "title_cell": "Table of Contents",
   "title_sidebar": "Contents",
   "toc_cell": false,
   "toc_position": {},
   "toc_section_display": true,
   "toc_window_display": false
  }
 },
 "nbformat": 4,
 "nbformat_minor": 2
}
