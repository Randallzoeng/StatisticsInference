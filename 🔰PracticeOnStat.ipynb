{
 "cells": [
  {
   "cell_type": "code",
   "execution_count": 1,
   "metadata": {
    "scrolled": true
   },
   "outputs": [],
   "source": [
    "#run first\n",
    "import numpy as np\n",
    "import pandas as pd\n",
    "import scipy.stats as scipy_stats\n",
    "# %matplotlib inline\n",
    "import matplotlib.pyplot as plt\n",
    "import seaborn as sns; sns.set()\n",
    "# np.random.RandomState(42)"
   ]
  },
  {
   "cell_type": "code",
   "execution_count": null,
   "metadata": {},
   "outputs": [],
   "source": [
    "from sklearn.metrics"
   ]
  },
  {
   "cell_type": "markdown",
   "metadata": {},
   "source": [
    "# ✨`Find the mean, median and mode`"
   ]
  },
  {
   "cell_type": "code",
   "execution_count": 59,
   "metadata": {
    "scrolled": true
   },
   "outputs": [
    {
     "name": "stdout",
     "output_type": "stream",
     "text": [
      "X_mean= 48.23\n",
      "X_median= 47.0\n",
      "X_mode= 88\n"
     ]
    }
   ],
   "source": [
    "np.random.seed(0)\n",
    "X = np.random.randint(0,100,size=(100))\n",
    "print('X_mean =',np.mean(X))\n",
    "print('X_median =',np.median(X))\n",
    "print('X_mode =',np.argmax(np.bincount(X)))"
   ]
  },
  {
   "cell_type": "markdown",
   "metadata": {},
   "source": [
    "# ✨`Fine the range and midrange`"
   ]
  },
  {
   "cell_type": "code",
   "execution_count": 60,
   "metadata": {
    "scrolled": true
   },
   "outputs": [
    {
     "name": "stdout",
     "output_type": "stream",
     "text": [
      "X_range =  99\n",
      "X_midrange =  49.5\n"
     ]
    }
   ],
   "source": [
    "print('X_range = ',max(X) - min(X))\n",
    "print('X_midrange = ',(max(X)-min(X))/2)"
   ]
  },
  {
   "cell_type": "markdown",
   "metadata": {},
   "source": [
    "# ✨`Pictogram Chart`"
   ]
  },
  {
   "cell_type": "markdown",
   "metadata": {},
   "source": [
    "# ✨`Bar Plot`"
   ]
  },
  {
   "cell_type": "code",
   "execution_count": 66,
   "metadata": {
    "scrolled": true
   },
   "outputs": [
    {
     "data": {
      "text/html": [
       "<div>\n",
       "<style scoped>\n",
       "    .dataframe tbody tr th:only-of-type {\n",
       "        vertical-align: middle;\n",
       "    }\n",
       "\n",
       "    .dataframe tbody tr th {\n",
       "        vertical-align: top;\n",
       "    }\n",
       "\n",
       "    .dataframe thead th {\n",
       "        text-align: right;\n",
       "    }\n",
       "</style>\n",
       "<table border=\"1\" class=\"dataframe\">\n",
       "  <thead>\n",
       "    <tr style=\"text-align: right;\">\n",
       "      <th></th>\n",
       "      <th>total_bill</th>\n",
       "      <th>tip</th>\n",
       "      <th>sex</th>\n",
       "      <th>smoker</th>\n",
       "      <th>day</th>\n",
       "      <th>time</th>\n",
       "      <th>size</th>\n",
       "    </tr>\n",
       "  </thead>\n",
       "  <tbody>\n",
       "    <tr>\n",
       "      <th>0</th>\n",
       "      <td>16.99</td>\n",
       "      <td>1.01</td>\n",
       "      <td>Female</td>\n",
       "      <td>No</td>\n",
       "      <td>Sun</td>\n",
       "      <td>Dinner</td>\n",
       "      <td>2</td>\n",
       "    </tr>\n",
       "    <tr>\n",
       "      <th>1</th>\n",
       "      <td>10.34</td>\n",
       "      <td>1.66</td>\n",
       "      <td>Male</td>\n",
       "      <td>No</td>\n",
       "      <td>Sun</td>\n",
       "      <td>Dinner</td>\n",
       "      <td>3</td>\n",
       "    </tr>\n",
       "    <tr>\n",
       "      <th>2</th>\n",
       "      <td>21.01</td>\n",
       "      <td>3.50</td>\n",
       "      <td>Male</td>\n",
       "      <td>No</td>\n",
       "      <td>Sun</td>\n",
       "      <td>Dinner</td>\n",
       "      <td>3</td>\n",
       "    </tr>\n",
       "    <tr>\n",
       "      <th>3</th>\n",
       "      <td>23.68</td>\n",
       "      <td>3.31</td>\n",
       "      <td>Male</td>\n",
       "      <td>No</td>\n",
       "      <td>Sun</td>\n",
       "      <td>Dinner</td>\n",
       "      <td>2</td>\n",
       "    </tr>\n",
       "    <tr>\n",
       "      <th>4</th>\n",
       "      <td>24.59</td>\n",
       "      <td>3.61</td>\n",
       "      <td>Female</td>\n",
       "      <td>No</td>\n",
       "      <td>Sun</td>\n",
       "      <td>Dinner</td>\n",
       "      <td>4</td>\n",
       "    </tr>\n",
       "  </tbody>\n",
       "</table>\n",
       "</div>"
      ],
      "text/plain": [
       "   total_bill   tip     sex smoker  day    time  size\n",
       "0       16.99  1.01  Female     No  Sun  Dinner     2\n",
       "1       10.34  1.66    Male     No  Sun  Dinner     3\n",
       "2       21.01  3.50    Male     No  Sun  Dinner     3\n",
       "3       23.68  3.31    Male     No  Sun  Dinner     2\n",
       "4       24.59  3.61  Female     No  Sun  Dinner     4"
      ]
     },
     "execution_count": 66,
     "metadata": {},
     "output_type": "execute_result"
    }
   ],
   "source": [
    "%matplotlib inline\n",
    "import seaborn as sns ; sns.set()\n",
    "tips = sns.load_dataset(\"tips\")\n",
    "tips.head()"
   ]
  },
  {
   "cell_type": "code",
   "execution_count": 69,
   "metadata": {},
   "outputs": [
    {
     "data": {
      "text/html": [
       "<div>\n",
       "<style scoped>\n",
       "    .dataframe tbody tr th:only-of-type {\n",
       "        vertical-align: middle;\n",
       "    }\n",
       "\n",
       "    .dataframe tbody tr th {\n",
       "        vertical-align: top;\n",
       "    }\n",
       "\n",
       "    .dataframe thead th {\n",
       "        text-align: right;\n",
       "    }\n",
       "</style>\n",
       "<table border=\"1\" class=\"dataframe\">\n",
       "  <thead>\n",
       "    <tr style=\"text-align: right;\">\n",
       "      <th>sex</th>\n",
       "      <th>Male</th>\n",
       "      <th>Female</th>\n",
       "    </tr>\n",
       "    <tr>\n",
       "      <th>day</th>\n",
       "      <th></th>\n",
       "      <th></th>\n",
       "    </tr>\n",
       "  </thead>\n",
       "  <tbody>\n",
       "    <tr>\n",
       "      <th>Thur</th>\n",
       "      <td>18.714667</td>\n",
       "      <td>16.715312</td>\n",
       "    </tr>\n",
       "    <tr>\n",
       "      <th>Fri</th>\n",
       "      <td>19.857000</td>\n",
       "      <td>14.145556</td>\n",
       "    </tr>\n",
       "    <tr>\n",
       "      <th>Sat</th>\n",
       "      <td>20.802542</td>\n",
       "      <td>19.680357</td>\n",
       "    </tr>\n",
       "    <tr>\n",
       "      <th>Sun</th>\n",
       "      <td>21.887241</td>\n",
       "      <td>19.872222</td>\n",
       "    </tr>\n",
       "  </tbody>\n",
       "</table>\n",
       "</div>"
      ],
      "text/plain": [
       "sex        Male     Female\n",
       "day                       \n",
       "Thur  18.714667  16.715312\n",
       "Fri   19.857000  14.145556\n",
       "Sat   20.802542  19.680357\n",
       "Sun   21.887241  19.872222"
      ]
     },
     "execution_count": 69,
     "metadata": {},
     "output_type": "execute_result"
    }
   ],
   "source": [
    "tips.pivot_table(index='day',columns='sex',values='total_bill')"
   ]
  },
  {
   "cell_type": "code",
   "execution_count": 64,
   "metadata": {
    "scrolled": false
   },
   "outputs": [
    {
     "name": "stderr",
     "output_type": "stream",
     "text": [
      "d:\\python\\python36-32\\lib\\site-packages\\scipy\\stats\\stats.py:1713: FutureWarning: Using a non-tuple sequence for multidimensional indexing is deprecated; use `arr[tuple(seq)]` instead of `arr[seq]`. In the future this will be interpreted as an array index, `arr[np.array(seq)]`, which will result either in an error or a different result.\n",
      "  return np.add.reduce(sorted[indexer] * weights, axis=axis) / sumval\n"
     ]
    },
    {
     "data": {
      "text/plain": [
       "<matplotlib.axes._subplots.AxesSubplot at 0x124aad90>"
      ]
     },
     "execution_count": 64,
     "metadata": {},
     "output_type": "execute_result"
    },
    {
     "data": {
      "image/png": "[encoded data removed]",
      "text/plain": [
       "<Figure size 432x288 with 1 Axes>"
      ]
     },
     "metadata": {},
     "output_type": "display_data"
    }
   ],
   "source": [
    "sns.barplot(x=\"day\",y=\"total_bill\",hue=\"sex\",data=tips)"
   ]
  },
  {
   "cell_type": "markdown",
   "metadata": {},
   "source": [
    "[`Using Error Bars in your Graph`](https://projects.ncsu.edu/labwrite/res/gt/gt-stat-home.html#opennewwindow)"
   ]
  },
  {
   "cell_type": "code",
   "execution_count": 108,
   "metadata": {
    "scrolled": true
   },
   "outputs": [
    {
     "name": "stdout",
     "output_type": "stream",
     "text": [
      "25.86650849903717\n",
      "13.847491500962828\n"
     ]
    }
   ],
   "source": [
    "Fri_Male = tips.loc[(tips.day == 'Fri')&(tips.sex == 'Male'),'total_bill']\n",
    "print(np.mean(Fri_Male)  +2*np.std(Fri_Male) / (len(Fri_Male))**0.5)\n",
    "print(np.mean(Fri_Male)  -2*np.std(Fri_Male) / (len(Fri_Male))**0.5)"
   ]
  },
  {
   "cell_type": "markdown",
   "metadata": {},
   "source": [
    "# ✨`Line Plot`"
   ]
  },
  {
   "cell_type": "code",
   "execution_count": 2,
   "metadata": {},
   "outputs": [],
   "source": [
    "import numpy as np\n",
    "import pandas as pd\n",
    "%matplotlib inline\n",
    "import matplotlib.pyplot as plt\n",
    "import seaborn as sns; sns.set()"
   ]
  },
  {
   "cell_type": "code",
   "execution_count": 3,
   "metadata": {
    "scrolled": false
   },
   "outputs": [
    {
     "data": {
      "text/html": [
       "<div>\n",
       "<style scoped>\n",
       "    .dataframe tbody tr th:only-of-type {\n",
       "        vertical-align: middle;\n",
       "    }\n",
       "\n",
       "    .dataframe tbody tr th {\n",
       "        vertical-align: top;\n",
       "    }\n",
       "\n",
       "    .dataframe thead th {\n",
       "        text-align: right;\n",
       "    }\n",
       "</style>\n",
       "<table border=\"1\" class=\"dataframe\">\n",
       "  <thead>\n",
       "    <tr style=\"text-align: right;\">\n",
       "      <th></th>\n",
       "      <th>-195</th>\n",
       "      <th>0</th>\n",
       "      <th>20</th>\n",
       "      <th>100</th>\n",
       "    </tr>\n",
       "  </thead>\n",
       "  <tbody>\n",
       "    <tr>\n",
       "      <th>0</th>\n",
       "      <td>1</td>\n",
       "      <td>52</td>\n",
       "      <td>48</td>\n",
       "      <td>73.5</td>\n",
       "    </tr>\n",
       "    <tr>\n",
       "      <th>1</th>\n",
       "      <td>1</td>\n",
       "      <td>58</td>\n",
       "      <td>66</td>\n",
       "      <td>82.0</td>\n",
       "    </tr>\n",
       "    <tr>\n",
       "      <th>2</th>\n",
       "      <td>2</td>\n",
       "      <td>82</td>\n",
       "      <td>74</td>\n",
       "      <td>72.0</td>\n",
       "    </tr>\n",
       "    <tr>\n",
       "      <th>3</th>\n",
       "      <td>1</td>\n",
       "      <td>35</td>\n",
       "      <td>86</td>\n",
       "      <td>80.0</td>\n",
       "    </tr>\n",
       "    <tr>\n",
       "      <th>4</th>\n",
       "      <td>2</td>\n",
       "      <td>84</td>\n",
       "      <td>78</td>\n",
       "      <td>79.0</td>\n",
       "    </tr>\n",
       "  </tbody>\n",
       "</table>\n",
       "</div>"
      ],
      "text/plain": [
       "   -195   0  20   100\n",
       "0     1  52  48  73.5\n",
       "1     1  58  66  82.0\n",
       "2     2  82  74  72.0\n",
       "3     1  35  86  80.0\n",
       "4     2  84  78  79.0"
      ]
     },
     "execution_count": 3,
     "metadata": {},
     "output_type": "execute_result"
    }
   ],
   "source": [
    "temp = pd.DataFrame({'-195':[1,1,2,1,2],'0':[52,58,82,35,84],'20':[48,66,74,86,78],'100':[73.5,82,72,80,79]})\n",
    "temp"
   ]
  },
  {
   "cell_type": "code",
   "execution_count": 4,
   "metadata": {
    "scrolled": true
   },
   "outputs": [],
   "source": [
    "#http://pandas.pydata.org/pandas-docs/stable/generated/pandas.melt.html\n",
    "temp = temp.T.stack().reset_index()[[\"level_0\", 0]]\n",
    "temp.columns = ['temp','energy']\n",
    "temp['temp'] = pd.to_numeric(temp['temp'])"
   ]
  },
  {
   "cell_type": "code",
   "execution_count": 5,
   "metadata": {
    "scrolled": true
   },
   "outputs": [
    {
     "data": {
      "text/html": [
       "<div>\n",
       "<style scoped>\n",
       "    .dataframe tbody tr th:only-of-type {\n",
       "        vertical-align: middle;\n",
       "    }\n",
       "\n",
       "    .dataframe tbody tr th {\n",
       "        vertical-align: top;\n",
       "    }\n",
       "\n",
       "    .dataframe thead th {\n",
       "        text-align: right;\n",
       "    }\n",
       "</style>\n",
       "<table border=\"1\" class=\"dataframe\">\n",
       "  <thead>\n",
       "    <tr style=\"text-align: right;\">\n",
       "      <th></th>\n",
       "      <th>temp</th>\n",
       "      <th>energy</th>\n",
       "    </tr>\n",
       "  </thead>\n",
       "  <tbody>\n",
       "    <tr>\n",
       "      <th>0</th>\n",
       "      <td>-195</td>\n",
       "      <td>1.0</td>\n",
       "    </tr>\n",
       "    <tr>\n",
       "      <th>1</th>\n",
       "      <td>-195</td>\n",
       "      <td>1.0</td>\n",
       "    </tr>\n",
       "    <tr>\n",
       "      <th>2</th>\n",
       "      <td>-195</td>\n",
       "      <td>2.0</td>\n",
       "    </tr>\n",
       "    <tr>\n",
       "      <th>3</th>\n",
       "      <td>-195</td>\n",
       "      <td>1.0</td>\n",
       "    </tr>\n",
       "    <tr>\n",
       "      <th>4</th>\n",
       "      <td>-195</td>\n",
       "      <td>2.0</td>\n",
       "    </tr>\n",
       "  </tbody>\n",
       "</table>\n",
       "</div>"
      ],
      "text/plain": [
       "   temp  energy\n",
       "0  -195     1.0\n",
       "1  -195     1.0\n",
       "2  -195     2.0\n",
       "3  -195     1.0\n",
       "4  -195     2.0"
      ]
     },
     "execution_count": 5,
     "metadata": {},
     "output_type": "execute_result"
    }
   ],
   "source": [
    "temp.head()"
   ]
  },
  {
   "cell_type": "code",
   "execution_count": 9,
   "metadata": {
    "scrolled": true
   },
   "outputs": [
    {
     "name": "stderr",
     "output_type": "stream",
     "text": [
      "d:\\python\\python36-32\\lib\\site-packages\\scipy\\stats\\stats.py:1713: FutureWarning: Using a non-tuple sequence for multidimensional indexing is deprecated; use `arr[tuple(seq)]` instead of `arr[seq]`. In the future this will be interpreted as an array index, `arr[np.array(seq)]`, which will result either in an error or a different result.\n",
      "  return np.add.reduce(sorted[indexer] * weights, axis=axis) / sumval\n"
     ]
    },
    {
     "data": {
      "text/plain": [
       "<matplotlib.axes._subplots.AxesSubplot at 0x10f2ff0>"
      ]
     },
     "execution_count": 9,
     "metadata": {},
     "output_type": "execute_result"
    },
    {
     "data": {
      "image/png": "[encoded data removed]",
      "text/plain": [
       "<Figure size 432x288 with 1 Axes>"
      ]
     },
     "metadata": {},
     "output_type": "display_data"
    }
   ],
   "source": [
    "sns.barplot(x=\"temp\",y=\"energy\",data=temp)"
   ]
  },
  {
   "cell_type": "markdown",
   "metadata": {},
   "source": [
    "# ✨`Pie Plot`"
   ]
  },
  {
   "cell_type": "markdown",
   "metadata": {},
   "source": [
    "# ✨`Misunderstanding Line Plot`"
   ]
  },
  {
   "cell_type": "markdown",
   "metadata": {},
   "source": [
    "# ✨`Stem-and-Leaf Plot`\n",
    "https://en.wikipedia.org/wiki/Stem-and-leaf_display"
   ]
  },
  {
   "cell_type": "markdown",
   "metadata": {},
   "source": [
    "# ✨`Boxplots`"
   ]
  },
  {
   "cell_type": "code",
   "execution_count": 4,
   "metadata": {
    "scrolled": true
   },
   "outputs": [
    {
     "data": {
      "text/plain": [
       "<matplotlib.axes._subplots.AxesSubplot at 0x1655430>"
      ]
     },
     "execution_count": 4,
     "metadata": {},
     "output_type": "execute_result"
    },
    {
     "data": {
      "image/png": "[encoded data removed]",
      "text/plain": [
       "<Figure size 432x288 with 1 Axes>"
      ]
     },
     "metadata": {},
     "output_type": "display_data"
    }
   ],
   "source": [
    "import seaborn as sns\n",
    "sns.set(style=\"ticks\",palette=\"pastel\")\n",
    "sns.boxplot(x=tips[\"total_bill\"])"
   ]
  },
  {
   "cell_type": "markdown",
   "metadata": {},
   "source": [
    "# ✨`Boxplots 2`"
   ]
  },
  {
   "cell_type": "code",
   "execution_count": 1,
   "metadata": {},
   "outputs": [],
   "source": [
    "%matplotlib inline\n",
    "import matplotlib.pyplot as plt\n",
    "import seaborn as sns; sns.set()"
   ]
  },
  {
   "cell_type": "code",
   "execution_count": 3,
   "metadata": {
    "scrolled": true
   },
   "outputs": [
    {
     "data": {
      "text/plain": [
       "<matplotlib.axes._subplots.AxesSubplot at 0x124a62d0>"
      ]
     },
     "execution_count": 3,
     "metadata": {},
     "output_type": "execute_result"
    },
    {
     "data": {
      "image/png": "[encoded data removed]",
      "text/plain": [
       "<Figure size 432x288 with 1 Axes>"
      ]
     },
     "metadata": {},
     "output_type": "display_data"
    }
   ],
   "source": [
    "tips = sns.load_dataset(\"tips\")\n",
    "sns.boxenplot(x=tips[\"total_bill\"])"
   ]
  },
  {
   "cell_type": "markdown",
   "metadata": {},
   "source": [
    "# ✨`Central Tendency`"
   ]
  },
  {
   "cell_type": "markdown",
   "metadata": {},
   "source": [
    "Statistics\n",
    "- Descriptive Statistics\n",
    "- Inferential Statistics\n",
    "\n",
    "`Central Tendency`\n",
    "- mean\n",
    "    - arithmetic mean\n",
    "    - geometric mean (stock return)\n",
    "    - harmonic mean\n",
    "- median\n",
    "- mode"
   ]
  },
  {
   "cell_type": "markdown",
   "metadata": {},
   "source": [
    "# ✨`Population & Sample`"
   ]
  },
  {
   "cell_type": "markdown",
   "metadata": {},
   "source": [
    "$μ = Population mean$\n",
    " \n",
    "$\\bar{X}  = Sample mean$"
   ]
  },
  {
   "cell_type": "code",
   "execution_count": 1,
   "metadata": {},
   "outputs": [
    {
     "name": "stdout",
     "output_type": "stream",
     "text": [
      "population mean =  0   -0.103847\n",
      "dtype: float64\n",
      "sample mean =  0   -0.122167\n",
      "dtype: float64\n"
     ]
    }
   ],
   "source": [
    "import numpy as np\n",
    "import pandas as pd\n",
    "np.random.seed(seed=42)\n",
    "popu = pd.DataFrame(np.random.normal(0,1,size=100))\n",
    "print(\"population mean = \",popu.mean())\n",
    "samp = popu.sample(50)\n",
    "print(\"sample mean = \",samp.mean())"
   ]
  },
  {
   "cell_type": "markdown",
   "metadata": {},
   "source": [
    "# ✨`Population Variance`"
   ]
  },
  {
   "cell_type": "code",
   "execution_count": 97,
   "metadata": {
    "scrolled": false
   },
   "outputs": [
    {
     "data": {
      "text/plain": [
       "0    0.816522\n",
       "dtype: float64"
      ]
     },
     "execution_count": 97,
     "metadata": {},
     "output_type": "execute_result"
    }
   ],
   "source": [
    "#dispersion tendency\n",
    "popu.var(ddof = 0)"
   ]
  },
  {
   "cell_type": "code",
   "execution_count": 98,
   "metadata": {
    "scrolled": true
   },
   "outputs": [
    {
     "name": "stdout",
     "output_type": "stream",
     "text": [
      "0    0.816522\n",
      "dtype: float64\n"
     ]
    }
   ],
   "source": [
    "popu_var = 0\n",
    "N = len(popu)\n",
    "\n",
    "for i in range(N):\n",
    "    popu_var += (popu.iloc[i,0] - popu.mean())**2\n",
    "print(popu_var/N)"
   ]
  },
  {
   "cell_type": "markdown",
   "metadata": {},
   "source": [
    "# ✨`Sample Variance`"
   ]
  },
  {
   "cell_type": "code",
   "execution_count": 99,
   "metadata": {},
   "outputs": [
    {
     "data": {
      "text/plain": [
       "0    1.085657\n",
       "dtype: float64"
      ]
     },
     "execution_count": 99,
     "metadata": {},
     "output_type": "execute_result"
    }
   ],
   "source": [
    "#unbias sample variance\n",
    "samp.var()"
   ]
  },
  {
   "cell_type": "code",
   "execution_count": 100,
   "metadata": {
    "scrolled": true
   },
   "outputs": [
    {
     "name": "stdout",
     "output_type": "stream",
     "text": [
      "0    1.085657\n",
      "dtype: float64\n"
     ]
    }
   ],
   "source": [
    "samp_var = 0\n",
    "n = len(samp)\n",
    "\n",
    "for i in range(n):\n",
    "    samp_var += (samp.iloc[i,0] - samp.mean())**2\n",
    "print(samp_var/(n-1))"
   ]
  },
  {
   "cell_type": "markdown",
   "metadata": {},
   "source": [
    "🤔Why we divide by n-1? Is bias var always underestimate for sample?"
   ]
  },
  {
   "cell_type": "code",
   "execution_count": 116,
   "metadata": {},
   "outputs": [],
   "source": [
    "var_samp = []\n",
    "for i in range(1000):\n",
    "    var_samp.append(popu.sample(50).var(ddof = 0))"
   ]
  },
  {
   "cell_type": "code",
   "execution_count": 119,
   "metadata": {
    "scrolled": true
   },
   "outputs": [
    {
     "data": {
      "text/plain": [
       "{'whiskers': [<matplotlib.lines.Line2D at 0xdb67690>,\n",
       "  <matplotlib.lines.Line2D at 0xdb86670>],\n",
       " 'caps': [<matplotlib.lines.Line2D at 0xdbb1b90>,\n",
       "  <matplotlib.lines.Line2D at 0xdbbad10>],\n",
       " 'boxes': [<matplotlib.lines.Line2D at 0xdb5d990>],\n",
       " 'medians': [<matplotlib.lines.Line2D at 0xdbd9870>],\n",
       " 'fliers': [<matplotlib.lines.Line2D at 0xdbf95d0>],\n",
       " 'means': []}"
      ]
     },
     "execution_count": 119,
     "metadata": {},
     "output_type": "execute_result"
    },
    {
     "data": {
      "image/png": "[encoded data removed]",
      "text/plain": [
       "<Figure size 432x288 with 1 Axes>"
      ]
     },
     "metadata": {},
     "output_type": "display_data"
    }
   ],
   "source": [
    "%matplotlib inline\n",
    "import matplotlib.pyplot as plt\n",
    "# plt.hist(np.array(var_samp))\n",
    "plt.boxplot(np.array(var_samp))"
   ]
  },
  {
   "cell_type": "markdown",
   "metadata": {},
   "source": [
    "# ✨`Standard Deviation`"
   ]
  },
  {
   "cell_type": "code",
   "execution_count": 5,
   "metadata": {
    "scrolled": false
   },
   "outputs": [
    {
     "name": "stdout",
     "output_type": "stream",
     "text": [
      "population std =  0    0.903616\n",
      "dtype: float64\n",
      "sample std =  0    1.041949\n",
      "dtype: float64\n"
     ]
    }
   ],
   "source": [
    "print(\"population std = \",popu.std(ddof=0))\n",
    "print(\"sample std = \",samp.std())"
   ]
  },
  {
   "cell_type": "markdown",
   "metadata": {},
   "source": [
    "# ✨`Standard Deviations Simplification`"
   ]
  },
  {
   "cell_type": "code",
   "execution_count": 20,
   "metadata": {
    "scrolled": true
   },
   "outputs": [
    {
     "name": "stdout",
     "output_type": "stream",
     "text": [
      "0    0.903616\n",
      "dtype: float64\n"
     ]
    }
   ],
   "source": [
    "N = len(popu)\n",
    "popu_std = 0\n",
    "\n",
    "for i in range(N):\n",
    "    popu_std += (popu.iloc[i,0] - popu.mean())**2\n",
    "print((popu_std/N)**0.5)"
   ]
  },
  {
   "cell_type": "markdown",
   "metadata": {},
   "source": [
    "# ✨`Random Variable`"
   ]
  },
  {
   "cell_type": "markdown",
   "metadata": {},
   "source": [
    "# ✨`Probability Density Function`"
   ]
  },
  {
   "cell_type": "markdown",
   "metadata": {},
   "source": [
    "#PMF probability mass function\n",
    "> 除了直方图，另一种可以表示分布的方法是概率质量函数（probability mass function，PMF）。概率质量函数将每个值映射到其概率。概率（probability）是频数的分数表示，样本量为n。要从频数计算出概率，我们将频数除以n，这一过程称为正态化（normalization）。"
   ]
  },
  {
   "cell_type": "code",
   "execution_count": 5,
   "metadata": {},
   "outputs": [
    {
     "data": {
      "text/plain": [
       "'C:\\\\Users\\\\randa\\\\Desktop\\\\JupyterNote\\\\Python\\\\PyPrac'"
      ]
     },
     "execution_count": 5,
     "metadata": {},
     "output_type": "execute_result"
    }
   ],
   "source": [
    "import os\n",
    "os.chdir('D:\\\\datasets\\\\ThinkStats2-master\\\\code')\n",
    "%run nsfg.py"
   ]
  },
  {
   "cell_type": "code",
   "execution_count": 13,
   "metadata": {
    "scrolled": true
   },
   "outputs": [
    {
     "data": {
      "text/plain": [
       "Pmf({1: 0.2, 2: 0.4, 3: 0.2, 5: 0.2})"
      ]
     },
     "execution_count": 13,
     "metadata": {},
     "output_type": "execute_result"
    }
   ],
   "source": [
    "import thinkstats2\n",
    "pmf = thinkstats2.Pmf([1,2,2,3,5])\n",
    "pmf"
   ]
  },
  {
   "cell_type": "markdown",
   "metadata": {},
   "source": [
    "![](http://upload.ouliu.net/i/20181227110743v43lh.png)"
   ]
  },
  {
   "cell_type": "markdown",
   "metadata": {},
   "source": [
    "#CDF Cumulative Distribution Function\n",
    "> PMF适用于变量值数量较少的情况。但是随着值的数量增加，每个值对应的概率会变得越来越小，随机噪音的影响就会变大。\n",
    "为了解决上面的问题，我们可以将数据分区，即将值的的范围划分为互不重叠的区间，然后计算每个区间中值的数目。分区是很实用的方法，但选择区间大小并不容易。如果区间太大，在消除噪音的同时，也可能会消除有用的信息。\n",
    "\n",
    "⏬与图4-1相比较，图4-4更清晰地展示了分布的形状以及分布之间的差异。从图中我们可以看出，第一胎新生儿普遍体重较轻，而且大于均值时差异更为明显。"
   ]
  },
  {
   "cell_type": "markdown",
   "metadata": {},
   "source": [
    "![](http://epub.ituring.com.cn/api/storage/getbykey/screenshow?key=1509bffafa3e7d726fc1)"
   ]
  },
  {
   "cell_type": "markdown",
   "metadata": {},
   "source": [
    "![](http://epub.ituring.com.cn/api/storage/getbykey/screenshow?key=1509276bc0f1492b6538)"
   ]
  },
  {
   "cell_type": "markdown",
   "metadata": {},
   "source": [
    "# ✨`Binomial Distribution 1`\n",
    "# ✨`Binomial Distribution 2`\n",
    "# ✨`Binomial Distribution 3`\n",
    "# ✨`Binomial Distribution 4`"
   ]
  },
  {
   "cell_type": "markdown",
   "metadata": {},
   "source": [
    "![](http://ww4.sinaimg.cn/mw690/6941baebgw1ereiqab04dj208r023weh.jpg)"
   ]
  },
  {
   "cell_type": "code",
   "execution_count": 1,
   "metadata": {},
   "outputs": [],
   "source": [
    "import numpy as np\n",
    "import scipy.stats as stats\n",
    "import matplotlib.pyplot as plt\n",
    "import seaborn as sns; sns.set()\n",
    "\n",
    "plt.rcParams['figure.figsize'] = (14,7)\n",
    "plt.figure(dpi=100)"
   ]
  },
  {
   "cell_type": "code",
   "execution_count": 4,
   "metadata": {
    "scrolled": true
   },
   "outputs": [
    {
     "name": "stderr",
     "output_type": "stream",
     "text": [
      "C:\\Users\\randa\\AppData\\Roaming\\Python\\Python36\\site-packages\\matplotlib\\__init__.py:1867: MatplotlibDeprecationWarning: The *left* kwarg to `bar` is deprecated use *x* instead. Support for *left* will be removed in Matplotlib 3.0\n",
      "  return func(ax, *args, **kwargs)\n"
     ]
    },
    {
     "data": {
      "text/plain": [
       "[<matplotlib.lines.Line2D at 0x1005e70>]"
      ]
     },
     "execution_count": 4,
     "metadata": {},
     "output_type": "execute_result"
    },
    {
     "data": {
      "image/png": "[encoded data removed]",
      "text/plain": [
       "<Figure size 432x288 with 1 Axes>"
      ]
     },
     "metadata": {},
     "output_type": "display_data"
    }
   ],
   "source": [
    "plt.bar(\n",
    "        left=(np.arange(20)),\n",
    "        height=(stats.binom.pmf(np.arange(20),p=0.5,n=20)),\n",
    "        width=0.75,alpha=0.75)\n",
    "\n",
    "plt.plot(\n",
    "         np.arange(20),\n",
    "         stats.binom.cdf(np.arange(20),p=0.5,n=20),\n",
    "         color=\"#fc4f30\")"
   ]
  },
  {
   "cell_type": "code",
   "execution_count": 5,
   "metadata": {
    "scrolled": true
   },
   "outputs": [
    {
     "data": {
      "text/plain": [
       "[<matplotlib.lines.Line2D at 0x1213ff0>]"
      ]
     },
     "execution_count": 5,
     "metadata": {},
     "output_type": "execute_result"
    },
    {
     "data": {
      "image/png": "[encoded data removed]",
      "text/plain": [
       "<Figure size 432x288 with 1 Axes>"
      ]
     },
     "metadata": {},
     "output_type": "display_data"
    }
   ],
   "source": [
    "#P=0.2\n",
    "plt.scatter(np.arange(21),stats.binom.pmf(np.arange(21),p=0.2,n=20),alpha=0.75,s=10)\n",
    "plt.plot(np.arange(21),stats.binom.pmf(np.arange(21),p=0.2,n=20),alpha=0.75)"
   ]
  },
  {
   "cell_type": "markdown",
   "metadata": {},
   "source": [
    "# ✨`Expectation`\n",
    "\n",
    "> The expected value of a random variable is exact same thing as population mean.\n",
    "When you have an infinite population, so you cann't just add up the number and divide by the number. But if you know the frequency of the numbers, you can still calculate the mean.\n",
    "So how do you figure out the frequency of number show up, you can look at the probability distribution."
   ]
  },
  {
   "cell_type": "markdown",
   "metadata": {},
   "source": [
    "# ✨`Expectation of Binomial Distribution`\n",
    "> E(x) = np"
   ]
  },
  {
   "cell_type": "markdown",
   "metadata": {},
   "source": [
    "# ✨`Poisson Distribution 1`\n",
    "# ✨`Poisson Distribution 2`\n",
    "\n",
    "[1] https://blog.csdn.net/lanchunhui/article/details/50346893\n",
    "\n",
    "[2] http://www.empiricalzeal.com/2012/12/24/are-mass-shootings-really-random-events-a-look-at-the-us-numbers/\n",
    "\n",
    "[3] https://www.gunviolencearchive.org/\n",
    "\n",
    "[4] http://episte.math.ntu.edu.tw/articles/sm/sm_16_07_1/index.html"
   ]
  },
  {
   "cell_type": "markdown",
   "metadata": {},
   "source": [
    "![](http://ww2.sinaimg.cn/mw690/6941baebgw1ereirz6m85j204401qglg.jpg)"
   ]
  },
  {
   "cell_type": "code",
   "execution_count": 3,
   "metadata": {},
   "outputs": [
    {
     "data": {
      "text/plain": [
       "[(0.1353352832366127, 0.1353352832366127),\n",
       " (0.2706705664732254, 0.40600584970983794),\n",
       " (0.2706705664732254, 0.6766764161830634),\n",
       " (0.18044704431548356, 0.857123460498547),\n",
       " (0.09022352215774178, 0.9473469826562889),\n",
       " (0.03608940886309672, 0.9834363915193856),\n",
       " (0.012029802954365565, 0.9954661944737512)]"
      ]
     },
     "execution_count": 3,
     "metadata": {},
     "output_type": "execute_result"
    }
   ],
   "source": [
    "import scipy.stats as scipy_stat\n",
    "X = scipy_stat.poisson(2)\n",
    "[(X.pmf(i),X.cdf(i)) for i in range(7)]"
   ]
  },
  {
   "cell_type": "code",
   "execution_count": 4,
   "metadata": {},
   "outputs": [],
   "source": [
    "num_years = [4,10,7,5,4,0,0,1]\n",
    "shooting_lambda = sum(x*y for x,y in zip(range(8),num_years))/sum(num_years)"
   ]
  },
  {
   "cell_type": "code",
   "execution_count": 13,
   "metadata": {},
   "outputs": [
    {
     "data": {
      "image/png": "[encoded data removed]",
      "text/plain": [
       "<Figure size 432x288 with 1 Axes>"
      ]
     },
     "metadata": {},
     "output_type": "display_data"
    }
   ],
   "source": [
    "import numpy as np\n",
    "import scipy.stats as scipy_stat\n",
    "import matplotlib.pyplot as plt\n",
    "import seaborn as sns; sns.set()\n",
    "\n",
    "\n",
    "X = scipy_stat.poisson(2)\n",
    "num_years = num_years = [4,10,7,5,4,0,0,1]\n",
    "x = range(8)\n",
    "\n",
    "plt.bar(np.array(x)-.4,num_years,label=\"Obs instances\")\n",
    "plt.plot(x,sum(num_years)*X.pmf(x),ls='dashed',\n",
    "        lw=2,c='red',label='Poisson distribution\\n$(\\lambda=2.0)$')\n",
    "plt.xlim([-1,8])\n",
    "plt.ylim([0,11])\n",
    "plt.xlabel('# of mass shooting in a year')\n",
    "plt.ylabel('# of years')\n",
    "plt.legend(loc='best')\n",
    "plt.show()"
   ]
  },
  {
   "cell_type": "code",
   "execution_count": 14,
   "metadata": {
    "scrolled": true
   },
   "outputs": [
    {
     "data": {
      "text/plain": [
       "[4.195393780334994,\n",
       " 8.390787560669988,\n",
       " 8.390787560669988,\n",
       " 5.59385837377999,\n",
       " 2.796929186889995,\n",
       " 1.1187716747559984,\n",
       " 0.3729238915853325,\n",
       " 0.10654968331009501]"
      ]
     },
     "execution_count": 14,
     "metadata": {},
     "output_type": "execute_result"
    }
   ],
   "source": [
    "[31*X.pmf(i) for i in range(8)]"
   ]
  },
  {
   "cell_type": "markdown",
   "metadata": {},
   "source": [
    "# ✨`Law of Large Numbers`\n",
    "> [大数定律](https://wiki.mbalib.com/wiki/%E5%A4%A7%E6%95%B0%E5%AE%9A%E5%BE%8B)"
   ]
  },
  {
   "cell_type": "markdown",
   "metadata": {},
   "source": [
    "# ✨`Binomial and Normal Distribution`"
   ]
  },
  {
   "cell_type": "markdown",
   "metadata": {},
   "source": [
    "![](http://ww4.sinaimg.cn/mw690/6941baebgw1ereio0h4wyj20e001wjrh.jpg)"
   ]
  },
  {
   "cell_type": "markdown",
   "metadata": {},
   "source": [
    "# ✨`Introduction of Normal Distribution`"
   ]
  },
  {
   "cell_type": "code",
   "execution_count": 4,
   "metadata": {},
   "outputs": [],
   "source": [
    "import scipy.stats as scipy_stat\n",
    "import numpy as np\n",
    "mu = 1\n",
    "sigma = 1\n",
    "X = np.arange(-5,5,0.1)\n",
    "Y = scipy_stat.norm.pdf(X,0,1) #Probability density function at x of the given RV."
   ]
  },
  {
   "cell_type": "code",
   "execution_count": 9,
   "metadata": {
    "scrolled": true
   },
   "outputs": [
    {
     "data": {
      "text/plain": [
       "Text(0,0.5,'Probability density function ')"
      ]
     },
     "execution_count": 9,
     "metadata": {},
     "output_type": "execute_result"
    },
    {
     "data": {
      "image/png": "[encoded data removed]",
      "text/plain": [
       "<Figure size 432x288 with 1 Axes>"
      ]
     },
     "metadata": {},
     "output_type": "display_data"
    }
   ],
   "source": [
    "%matplotlib inline\n",
    "import matplotlib.pyplot as plt\n",
    "import seaborn as sns; sns.set()\n",
    "\n",
    "plt.plot(X,Y)\n",
    "plt.title('Normal:$\\mu$=%.1f,$\\sigma^2$=%.1f'%(mu,sigma))\n",
    "plt.xlabel('X')\n",
    "plt.ylabel('Probability density function ')\n"
   ]
  },
  {
   "cell_type": "markdown",
   "metadata": {},
   "source": [
    "# ✨`Examples of Normal Distribution`"
   ]
  },
  {
   "cell_type": "markdown",
   "metadata": {},
   "source": [
    "# ✨`Z score`"
   ]
  },
  {
   "cell_type": "code",
   "execution_count": 2,
   "metadata": {},
   "outputs": [],
   "source": [
    "#ref: https://blog.csdn.net/sinat_26917383/article/details/51228217\n",
    "np.random.seed(42)\n",
    "X = np.random.randint(0,100,(100,))"
   ]
  },
  {
   "cell_type": "code",
   "execution_count": 19,
   "metadata": {
    "scrolled": true
   },
   "outputs": [
    {
     "name": "stderr",
     "output_type": "stream",
     "text": [
      "C:\\Users\\randa\\AppData\\Roaming\\Python\\Python36\\site-packages\\matplotlib\\axes\\_axes.py:6571: UserWarning: The 'normed' kwarg is deprecated, and has been replaced by the 'density' kwarg.\n",
      "  warnings.warn(\"The 'normed' kwarg is deprecated, and has been \"\n"
     ]
    },
    {
     "data": {
      "text/plain": [
       "(array([0.3903444 , 0.30026492, 0.15013246, 0.21018545, 0.30026492,\n",
       "        0.3903444 , 0.27023843, 0.36031791, 0.3903444 , 0.24021194]),\n",
       " array([-1.68354731, -1.35050807, -1.01746884, -0.68442961, -0.35139037,\n",
       "        -0.01835114,  0.31468809,  0.64772732,  0.98076656,  1.31380579,\n",
       "         1.64684502]),\n",
       " <a list of 1 Patch objects>)"
      ]
     },
     "execution_count": 19,
     "metadata": {},
     "output_type": "execute_result"
    },
    {
     "data": {
      "image/png": "[encoded data removed]",
      "text/plain": [
       "<Figure size 432x288 with 1 Axes>"
      ]
     },
     "metadata": {},
     "output_type": "display_data"
    }
   ],
   "source": [
    "kwargs = dict(histtype='stepfilled',alpha=0.3,normed=True)\n",
    "\n",
    "plt.hist(((X - X.min()) / X.max() - X.min()),**kwargs)\n",
    "plt.hist(((X - X.mean())/X.std(ddof=1)),**kwargs)"
   ]
  },
  {
   "cell_type": "markdown",
   "metadata": {},
   "source": [
    "# ✨`68-95-99.7 Rules`\n",
    "# ✨`Prac 68-95-99.7 Rules`\n",
    "# ✨`PracⅡ68-95-99.7 Rules`"
   ]
  },
  {
   "cell_type": "code",
   "execution_count": 28,
   "metadata": {},
   "outputs": [
    {
     "data": {
      "text/plain": [
       "-0.6826894921370859"
      ]
     },
     "execution_count": 28,
     "metadata": {},
     "output_type": "execute_result"
    }
   ],
   "source": [
    "#NORMDIST(x, mu, sigma, cumulative) from excel\n",
    "#rvs stands for Random Variates\n",
    "scipy_stats.norm.cdf(-1,loc=0,scale=1.0) - scipy_stats.norm.cdf(1,loc=0,scale=1.0) \n",
    "# scipy_stats.norm.cdf((-1,1),loc=0,scale=1.0) "
   ]
  },
  {
   "cell_type": "markdown",
   "metadata": {},
   "source": [
    "# ✨`Central Limit Theorem`"
   ]
  },
  {
   "cell_type": "markdown",
   "metadata": {},
   "source": [
    "> In probability theory, the central limit theorem (CLT) establishes that, in some situations, when independent random variables are added, their properly normalized sum tends toward a normal distribution (informally a \"bell curve\") even if the original variables themselves are not normally distributed. "
   ]
  },
  {
   "cell_type": "code",
   "execution_count": 17,
   "metadata": {
    "scrolled": false
   },
   "outputs": [],
   "source": [
    "X = pd.DataFrame(np.random.randint(0,100,size=10000),columns=['random_var'])\n",
    "sample_mean = []\n",
    "for i in range(1000):\n",
    "    sample_mean.append(X.sample(100).random_var.mean())"
   ]
  },
  {
   "cell_type": "code",
   "execution_count": 19,
   "metadata": {
    "scrolled": false
   },
   "outputs": [
    {
     "name": "stderr",
     "output_type": "stream",
     "text": [
      "d:\\python\\python36-32\\lib\\site-packages\\scipy\\stats\\stats.py:1713: FutureWarning: Using a non-tuple sequence for multidimensional indexing is deprecated; use `arr[tuple(seq)]` instead of `arr[seq]`. In the future this will be interpreted as an array index, `arr[np.array(seq)]`, which will result either in an error or a different result.\n",
      "  return np.add.reduce(sorted[indexer] * weights, axis=axis) / sumval\n"
     ]
    },
    {
     "data": {
      "text/plain": [
       "<matplotlib.axes._subplots.AxesSubplot at 0xbbcd10>"
      ]
     },
     "execution_count": 19,
     "metadata": {},
     "output_type": "execute_result"
    },
    {
     "data": {
      "image/png": "[encoded data removed]",
      "text/plain": [
       "<Figure size 504x360 with 2 Axes>"
      ]
     },
     "metadata": {},
     "output_type": "display_data"
    }
   ],
   "source": [
    "f, (ax1, ax2) = plt.subplots(2, 1, figsize=(7, 5), sharex=True)\n",
    "sns.distplot(X.random_var, kde=False, color=\"b\", ax=ax1)\n",
    "sns.distplot(sample_mean, kde=False, color=\"r\", ax=ax2)\n",
    "# plt.hist(X.random_var,ax=ax1)\n",
    "# plt.hist(sample_mean,ax=ax2)"
   ]
  },
  {
   "cell_type": "markdown",
   "metadata": {},
   "source": [
    "# ✨`Sampling Dist. of Sample Mean`\n",
    "# ✨`Sampling Dist. of Sample Mean 2`"
   ]
  },
  {
   "cell_type": "markdown",
   "metadata": {},
   "source": [
    "# ✨`SEM Standard Error of the Mean`"
   ]
  },
  {
   "cell_type": "markdown",
   "metadata": {},
   "source": [
    "$$SEM = \\frac{\\sigma}{\\sqrt{n}}$$"
   ]
  },
  {
   "cell_type": "code",
   "execution_count": 33,
   "metadata": {
    "scrolled": false
   },
   "outputs": [
    {
     "name": "stderr",
     "output_type": "stream",
     "text": [
      "d:\\python\\python36-32\\lib\\site-packages\\scipy\\stats\\stats.py:1713: FutureWarning: Using a non-tuple sequence for multidimensional indexing is deprecated; use `arr[tuple(seq)]` instead of `arr[seq]`. In the future this will be interpreted as an array index, `arr[np.array(seq)]`, which will result either in an error or a different result.\n",
      "  return np.add.reduce(sorted[indexer] * weights, axis=axis) / sumval\n"
     ]
    },
    {
     "data": {
      "text/plain": [
       "<matplotlib.axes._subplots.AxesSubplot at 0xc3dc4b0>"
      ]
     },
     "execution_count": 33,
     "metadata": {},
     "output_type": "execute_result"
    },
    {
     "data": {
      "image/png": "[encoded data removed]",
      "text/plain": [
       "<Figure size 504x360 with 3 Axes>"
      ]
     },
     "metadata": {},
     "output_type": "display_data"
    }
   ],
   "source": [
    "# *********************************#\n",
    "# rd = np.random.RandomState(42)\n",
    "# rd.randint(0,100,size=100)\n",
    "# *********************************#\n",
    "\n",
    "np.random.seed(42)\n",
    "X = pd.DataFrame(np.random.randint(0,100,size=10000),columns=['rd_var'])\n",
    "sample_mean_2 = []\n",
    "for i in range(1000):\n",
    "    sample_mean_2.append(X.sample(2).rd_var.mean())\n",
    "\n",
    "sample_mean_100 = []\n",
    "for i in range(1000):\n",
    "    sample_mean_100.append(X.sample(100).rd_var.mean())\n",
    "\n",
    "sample_mean_1000 = []\n",
    "for i in range(1000):\n",
    "    sample_mean_1000.append(X.sample(1000).rd_var.mean())\n",
    "    \n",
    "f, (ax1, ax2, ax3) = plt.subplots(3, 1, figsize=(7, 5), sharex=True)\n",
    "sns.distplot(sample_mean_2,kde=False,color='b',ax=ax1)\n",
    "sns.distplot(sample_mean_100,kde=False,color='b',ax=ax2)\n",
    "sns.distplot(sample_mean_1000,kde=False,color='b',ax=ax3)"
   ]
  },
  {
   "cell_type": "markdown",
   "metadata": {},
   "source": [
    "# ✨`Sample Distribution Example`"
   ]
  },
  {
   "cell_type": "code",
   "execution_count": 54,
   "metadata": {},
   "outputs": [
    {
     "data": {
      "text/plain": [
       "0.021675875630431274"
      ]
     },
     "execution_count": 54,
     "metadata": {},
     "output_type": "execute_result"
    }
   ],
   "source": [
    "sam_std = 0.7/50**0.5\n",
    "\n",
    "1- scipy_stats.norm.cdf(2.2,loc=2.0,scale=sam_std) "
   ]
  },
  {
   "cell_type": "markdown",
   "metadata": {},
   "source": [
    "# ✨`Confidence Interval `"
   ]
  },
  {
   "cell_type": "markdown",
   "metadata": {},
   "source": [
    "\\begin{example}\n",
    "You sample 36 apples from your farm's harvest of over 200,000 apples. The mean weight of the sample is 112 grams(w/ a 40 gram sample standard deviation) What is the proba that the mean weight of all 200,000 apples is within 100 and 124 grams\n",
    "\\end{example}\n",
    "\n",
    "\n",
    "\n"
   ]
  },
  {
   "cell_type": "code",
   "execution_count": 9,
   "metadata": {
    "scrolled": true
   },
   "outputs": [
    {
     "data": {
      "text/plain": [
       "0.9281393617741485"
      ]
     },
     "execution_count": 9,
     "metadata": {},
     "output_type": "execute_result"
    }
   ],
   "source": [
    "n,mean_samp,std_samp = [36,112,40]\n",
    "std_pop = std_samp/(n**0.5)\n",
    "scipy_stats.norm.cdf(124,loc=112,scale=std_pop) - scipy_stats.norm.cdf(100,loc=112,scale=std_pop)"
   ]
  },
  {
   "cell_type": "markdown",
   "metadata": {},
   "source": [
    "# ✨`Bernoulli Distribution Example`\n",
    "# ✨`Bernoulli Distribution Mean & Variance`"
   ]
  },
  {
   "cell_type": "code",
   "execution_count": 4,
   "metadata": {},
   "outputs": [],
   "source": [
    "from scipy.stats import bernoulli\n",
    "p = 0.3\n",
    "mean,var,skew,kurt = bernoulli.stats(p,moments='mvsk')"
   ]
  },
  {
   "cell_type": "code",
   "execution_count": 7,
   "metadata": {
    "scrolled": true
   },
   "outputs": [
    {
     "name": "stdout",
     "output_type": "stream",
     "text": [
      "0.3 \n",
      " 0.21 \n",
      " 0.8728715609439698 \n",
      " -1.2380952380952375\n"
     ]
    }
   ],
   "source": [
    "print(mean,'\\n',var,'\\n',skew,'\\n',kurt)"
   ]
  },
  {
   "cell_type": "markdown",
   "metadata": {},
   "source": [
    "# ✨`Bernoulli Distribution Interval`"
   ]
  },
  {
   "cell_type": "code",
   "execution_count": 27,
   "metadata": {},
   "outputs": [],
   "source": [
    "p = 0.57\n",
    "mean,var = bernoulli.stats(p,moments='mv')"
   ]
  },
  {
   "cell_type": "code",
   "execution_count": 15,
   "metadata": {},
   "outputs": [],
   "source": [
    "n = 100\n",
    "samp_var = var*100/99\n",
    "mean_std_est = samp_var**0.5/(100**0.5)"
   ]
  },
  {
   "cell_type": "code",
   "execution_count": 40,
   "metadata": {
    "scrolled": true
   },
   "outputs": [
    {
     "data": {
      "text/plain": [
       "Text(0,0.5,'Probability density function ')"
      ]
     },
     "execution_count": 40,
     "metadata": {},
     "output_type": "execute_result"
    },
    {
     "data": {
      "image/png": "[encoded data removed]",
      "text/plain": [
       "<Figure size 432x288 with 1 Axes>"
      ]
     },
     "metadata": {},
     "output_type": "display_data"
    }
   ],
   "source": [
    "X = np.arange(0,1,0.01)\n",
    "Y = scipy_stat.norm.pdf(X,p,mean_std_est)\n",
    "\n",
    "plt.plot(X,Y)\n",
    "plt.axvline(p-2*mean_std_est,color=\"r\", linestyle=\"--\")\n",
    "plt.axvline(p+2*mean_std_est,color=\"r\", linestyle=\"--\")\n",
    "plt.title('Normal:$\\mu$=%.1f,$\\sigma^2$=%.1f'%(p,mean_std_est))\n",
    "plt.xlabel('X')\n",
    "plt.ylabel('Probability density function ')"
   ]
  },
  {
   "cell_type": "markdown",
   "metadata": {},
   "source": [
    "# ✨`Bernoulli Distribution Interval 2`\n",
    "# ✨`Confidence Interval 2`"
   ]
  },
  {
   "cell_type": "markdown",
   "metadata": {},
   "source": [
    "- https://www.ncbi.nlm.nih.gov/pubmed/8899234\n",
    "\n",
    "- http://www.jebm.cn/CN/10.12019/j.issn.1671-5144.2017.05.015\n",
    "\n",
    "- http://blog.topspeedsnail.com/archives/749"
   ]
  },
  {
   "cell_type": "code",
   "execution_count": 8,
   "metadata": {},
   "outputs": [],
   "source": [
    "#mock 1\n",
    "np.random.seed(0)\n",
    "X = np.random.normal(loc=50.0, scale=10.0, size=500)\n",
    "Y = np.random.normal(loc=52.5,scale=10.0,size=500)"
   ]
  },
  {
   "cell_type": "code",
   "execution_count": 11,
   "metadata": {
    "scrolled": true
   },
   "outputs": [
    {
     "data": {
      "text/plain": [
       "Ttest_indResult(statistic=-16.431986993625472, pvalue=4.6777516353522e-49)"
      ]
     },
     "execution_count": 11,
     "metadata": {},
     "output_type": "execute_result"
    }
   ],
   "source": [
    "scipy_stats.mstats.ttest_ind(a=X,b=Y)"
   ]
  },
  {
   "cell_type": "code",
   "execution_count": 22,
   "metadata": {
    "scrolled": true
   },
   "outputs": [],
   "source": [
    "#mock 2\n",
    "X = np.random.normal(loc=50.0, scale=10.0, size=500)\n",
    "Y = np.random.normal(loc=51.5,scale=10.0,size=500)\n",
    "\n",
    "X_samp = np.random.choice(X, 100)\n",
    "Y_samp = np.random.choice(Y,100)"
   ]
  },
  {
   "cell_type": "code",
   "execution_count": 23,
   "metadata": {
    "scrolled": true
   },
   "outputs": [
    {
     "data": {
      "text/plain": [
       "Ttest_indResult(statistic=-1.8470135499559843, pvalue=0.0662373914028757)"
      ]
     },
     "execution_count": 23,
     "metadata": {},
     "output_type": "execute_result"
    }
   ],
   "source": [
    "scipy_stats.mstats.ttest_ind(a=X_samp,b=Y_samp)"
   ]
  },
  {
   "cell_type": "code",
   "execution_count": 92,
   "metadata": {},
   "outputs": [],
   "source": [
    "cls = np.concatenate([np.repeat('X_cls',500),np.repeat('Y_cls',500)]).reshape(1000,1)\n",
    "value = np.concatenate([X.reshape(500,1),Y.reshape(500,1)])\n",
    "df = pd.DataFrame(np.concatenate([cls,value],axis=1),columns=['cls','cls_value'])\n",
    "df.cls_value = df.cls_value.astype('float64')"
   ]
  },
  {
   "cell_type": "code",
   "execution_count": 117,
   "metadata": {
    "scrolled": true
   },
   "outputs": [],
   "source": [
    "# sns.set(style='ticks')\n",
    "# sns.catplot(x='cls',y='cls_value',kind='point',data=df,ci = 'sd')\n",
    "# sns.catplot(x='cls',y='cls_value',kind='point',data=df,ci = 68)\n",
    "# sns.catplot(x='cls',y='cls_value',kind='point',data=df,ci = 95)"
   ]
  },
  {
   "cell_type": "markdown",
   "metadata": {},
   "source": [
    "![](http://upload.ouliu.net/i/20190118115455t5jua.png)"
   ]
  },
  {
   "cell_type": "markdown",
   "metadata": {},
   "source": [
    "# ✨Confidence Interval of Small Sample"
   ]
  },
  {
   "cell_type": "code",
   "execution_count": 2,
   "metadata": {},
   "outputs": [
    {
     "data": {
      "text/plain": [
       "(-3.456277703929877, 5.456277703929877)"
      ]
     },
     "execution_count": 2,
     "metadata": {},
     "output_type": "execute_result"
    }
   ],
   "source": [
    "from scipy.stats import t\n",
    "t.interval(0.95,10,loc=1,scale=2)\n",
    "#degree of freedom 10"
   ]
  },
  {
   "cell_type": "code",
   "execution_count": 4,
   "metadata": {
    "scrolled": true
   },
   "outputs": [
    {
     "name": "stdout",
     "output_type": "stream",
     "text": [
      "(-5.338545334351676, 7.338545334351676)\n"
     ]
    }
   ],
   "source": [
    "def StudentTCI(loc,scale,df,alpha=0.95):\n",
    "    return t.interval(alpha,df,loc,scale)\n",
    "\n",
    "print (StudentTCI(1,2,10,0.99))"
   ]
  },
  {
   "cell_type": "markdown",
   "metadata": {},
   "source": [
    "# ✨Hypothesis Testing\n",
    "# ✨One-tailed / Two-tailed"
   ]
  },
  {
   "cell_type": "code",
   "execution_count": 9,
   "metadata": {
    "scrolled": true
   },
   "outputs": [
    {
     "data": {
      "text/plain": [
       "False"
      ]
     },
     "execution_count": 9,
     "metadata": {},
     "output_type": "execute_result"
    }
   ],
   "source": [
    "# https://docs.scipy.org/doc/scipy/reference/generated/scipy.stats.norm.html?highlight=norm%20cdf\n",
    "import scipy.stats as scipy_stats\n",
    "\n",
    "samp_n = 100\n",
    "pop_mean = 1.2\n",
    "samp_mean = 1.05\n",
    "samp_std = 0.5\n",
    "\n",
    "#H0 durg has no effect\n",
    "#h1 drug lowers the response time\n",
    "std_est = samp_std/samp_n**0.5\n",
    "z_score = (pop_mean-samp_mean)/std_est\n",
    "\n",
    "scipy_stats.norm.cdf(1.05,loc=1.2,scale=std_est) > 0.05\n",
    "#the proba above show that if the drug doesn't lower the response time,\n",
    "#what's the proba that we get a lowering this extrem or more  extrem"
   ]
  },
  {
   "cell_type": "code",
   "execution_count": 20,
   "metadata": {},
   "outputs": [
    {
     "data": {
      "text/plain": [
       "False"
      ]
     },
     "execution_count": 20,
     "metadata": {},
     "output_type": "execute_result"
    }
   ],
   "source": [
    "2* scipy_stats.norm.cdf(1.05,loc=1.2,scale=std_est) > 0.05"
   ]
  },
  {
   "cell_type": "markdown",
   "metadata": {},
   "source": [
    "# ✨Z Statistics / T Statistics"
   ]
  },
  {
   "cell_type": "code",
   "execution_count": 4,
   "metadata": {},
   "outputs": [
    {
     "data": {
      "text/plain": [
       "array([ 1.06939901, -1.1830039 , -0.05258212,  1.03626165,  1.10660039,\n",
       "       -0.81192795,  0.5488923 ,  0.64017636, -1.08984414, -1.26397161])"
      ]
     },
     "execution_count": 4,
     "metadata": {},
     "output_type": "execute_result"
    }
   ],
   "source": [
    "# Calculate the z score of each value in the sample, \n",
    "# relative to the sample mean and standard deviation.\n",
    "a = np.array([0.7972,  0.0767,  0.4383,  0.7866,  0.8091,\n",
    "             0.1954,  0.6307,  0.6599,  0.1065,  0.0508])\n",
    "from scipy import stats\n",
    "stats.zscore(a)\n",
    "stats.zscore(a,ddof=1)"
   ]
  },
  {
   "cell_type": "markdown",
   "metadata": {},
   "source": [
    "# ✨TypeⅠ error"
   ]
  },
  {
   "cell_type": "markdown",
   "metadata": {},
   "source": [
    "![](http://www.ituring.com.cn/figures/2016/R2/16.d10z.001.png)"
   ]
  },
  {
   "cell_type": "markdown",
   "metadata": {},
   "source": [
    "# ✨Hypothesis Testing for Small Sample"
   ]
  },
  {
   "cell_type": "code",
   "execution_count": 13,
   "metadata": {},
   "outputs": [],
   "source": [
    "arr = np.array([15.6,16.2,22.5,20.5,16.4,19.4,16.6,17.9,12.7,13.9])"
   ]
  },
  {
   "cell_type": "code",
   "execution_count": 59,
   "metadata": {
    "scrolled": true
   },
   "outputs": [],
   "source": [
    "#ddof=1 population mean\n",
    "t_stat = (20-arr.mean())/(arr.std(ddof=1)/(len(arr))**0.5)"
   ]
  },
  {
   "cell_type": "code",
   "execution_count": 32,
   "metadata": {},
   "outputs": [
    {
     "data": {
      "text/plain": [
       "False"
      ]
     },
     "execution_count": 32,
     "metadata": {},
     "output_type": "execute_result"
    }
   ],
   "source": [
    "1 - scipy_stats.t.cdf(t_stat,df=len(arr)-1,loc=0,scale=1) > 0.01"
   ]
  },
  {
   "cell_type": "code",
   "execution_count": 72,
   "metadata": {
    "scrolled": false
   },
   "outputs": [
    {
     "data": {
      "text/plain": [
       "0.9925417928755512"
      ]
     },
     "execution_count": 72,
     "metadata": {},
     "output_type": "execute_result"
    }
   ],
   "source": [
    "scipy_stats.t.cdf(t_stat,df=len(arr)-1,loc=0,scale=1)"
   ]
  },
  {
   "cell_type": "code",
   "execution_count": 75,
   "metadata": {},
   "outputs": [
    {
     "data": {
      "text/plain": [
       "0.0074582071244487635"
      ]
     },
     "execution_count": 75,
     "metadata": {},
     "output_type": "execute_result"
    }
   ],
   "source": [
    "scipy_stats.t.cdf(arr.mean(),df=9,loc=20.0,scale=arr.std(ddof=1)/(10)**0.5)"
   ]
  },
  {
   "cell_type": "code",
   "execution_count": 70,
   "metadata": {
    "scrolled": true
   },
   "outputs": [
    {
     "data": {
      "text/plain": [
       "0.0074582071244487635"
      ]
     },
     "execution_count": 70,
     "metadata": {},
     "output_type": "execute_result"
    }
   ],
   "source": [
    "import scipy.stats as scipy_stats\n",
    "scipy_stats.ttest_1samp(a=arr,popmean=20).pvalue/2"
   ]
  },
  {
   "cell_type": "markdown",
   "metadata": {},
   "source": [
    "# ✨CI for Small Sample"
   ]
  },
  {
   "cell_type": "code",
   "execution_count": 76,
   "metadata": {},
   "outputs": [
    {
     "data": {
      "text/plain": [
       "(16.9360065156678, 23.0639934843322)"
      ]
     },
     "execution_count": 76,
     "metadata": {},
     "output_type": "execute_result"
    }
   ],
   "source": [
    "from scipy.stats import t\n",
    "t.interval(0.99,len(arr)-1,loc=20,scale=arr.std(ddof=1)/(10)**0.5)\n",
    "#degree of freedom 10"
   ]
  },
  {
   "cell_type": "markdown",
   "metadata": {},
   "source": [
    " # ✨Hypothesis Testing for Big Sample\n",
    " > We want to test the hypothesis that more than 30% if US housholds have interner access (w/ significance level of 5%). We collect a sample of 150 households and find that 57 have access"
   ]
  },
  {
   "cell_type": "markdown",
   "metadata": {},
   "source": [
    "for binormial dist, if np>5,you can assume that the dist if the sample proportion is going to be normal\n",
    "https://wenku.baidu.com/view/6bf30395284ac850ad02426d.html"
   ]
  },
  {
   "cell_type": "code",
   "execution_count": 3,
   "metadata": {},
   "outputs": [
    {
     "data": {
      "text/plain": [
       "False"
      ]
     },
     "execution_count": 3,
     "metadata": {},
     "output_type": "execute_result"
    }
   ],
   "source": [
    "#h0 p<=0.3\n",
    "#h1 p>0.3\n",
    "#Bernoulli distribution\n",
    "pop_mean = 0.3\n",
    "pop_std = (0.3*0.7)**0.5\n",
    "#\n",
    "samp_mean_std = pop_std/(150)**0.5\n",
    "# z_score = (pop_mean-57/150)/samp_mean_std\n",
    "import scipy.stats as scipy_stats\n",
    "1-scipy_stats.norm.cdf(57/150,loc=pop_mean,scale=samp_mean_std) > 0.05"
   ]
  },
  {
   "cell_type": "markdown",
   "metadata": {},
   "source": [
    "# ✨Sum & Differences of Random Variable"
   ]
  },
  {
   "cell_type": "markdown",
   "metadata": {},
   "source": [
    "`For Two Random Variables X & Y`\n",
    "\n",
    "$Z=X + Y$\n",
    "\n",
    "$E(Z)=E(X+Y)=E(X)+E(Y)$\n",
    "\n",
    "$Var(Z)=Var(X)+Var(Y)$\n",
    "\n",
    "---\n",
    "\n",
    "$Z=X - Y$\n",
    "\n",
    "$E(Z)=E(X+Y)=E(X)-E(Y)$\n",
    "\n",
    "$Var(Z)=Var(X)+Var(Y)$"
   ]
  },
  {
   "cell_type": "markdown",
   "metadata": {},
   "source": [
    "# ✨Distribution of Differences of Sample Mean"
   ]
  },
  {
   "cell_type": "markdown",
   "metadata": {},
   "source": [
    "$Z=mean_X - mean_Y$\n",
    "\n",
    "$mean_Z = mean_X - mean_Y$\n",
    "\n",
    "$Var(Z)=Var(mean_X)+Var(mean_Y)$"
   ]
  },
  {
   "cell_type": "markdown",
   "metadata": {},
   "source": [
    "# ✨CI of Differences of Sample Mean (A)\n",
    "# ✨CI of Differences of Sample Mean (B)"
   ]
  },
  {
   "cell_type": "markdown",
   "metadata": {},
   "source": [
    "> We're trying to test whether a new, low-fat diet actually helps obese people lose \n",
    "weight.100 randomly assigned obese people are assigned to group 1 and put on the \n",
    "low fat diet. Another 100 randomly assigned obese people are assigned to group 2 \n",
    "and put on a diet of approximately the same amount of food, but not as low in fat.\n",
    "After 4 months, the mean weight loss was 9.31 lbs.for group 1 (s=4.67) and 7.40 lbs.\n",
    "(s=4.04) for group 2."
   ]
  },
  {
   "cell_type": "code",
   "execution_count": 1,
   "metadata": {},
   "outputs": [],
   "source": [
    "n = 100\n",
    "m = 100\n",
    "\n",
    "mean_x = 9.31\n",
    "std_x = 4.67\n",
    "\n",
    "mean_y = 7.40\n",
    "std_y = 4.04"
   ]
  },
  {
   "cell_type": "code",
   "execution_count": 2,
   "metadata": {},
   "outputs": [],
   "source": [
    "import scipy.stats as scipy_stats"
   ]
  },
  {
   "cell_type": "code",
   "execution_count": 13,
   "metadata": {},
   "outputs": [
    {
     "data": {
      "text/plain": [
       "(0.6997242233173577, 3.1202757766826426)"
      ]
     },
     "execution_count": 13,
     "metadata": {},
     "output_type": "execute_result"
    }
   ],
   "source": [
    "mean_z = mean_x - mean_y\n",
    "std_z = (std_x**2/n + std_y**2/m)**0.5\n",
    "scipy_stats.norm.interval(0.95,loc=mean_z,scale=std_z)"
   ]
  },
  {
   "cell_type": "markdown",
   "metadata": {},
   "source": [
    "> It looks like the low-fat group lost more weight just based on our samples than the control group. So just based on what we see, maybe you lose an incremental 1.91 pounds every four months if you are on this diet.\n",
    "\n",
    "> Just to be clear, there is not a pure 95% chance that the true difference of the true means liew in this. We are just confident that there is a 95% chance. We always to put a little confidence there. Because we didn't actually know the population std. We estimated them with our sample. Because of that, we don't know that it's an exact probability."
   ]
  },
  {
   "cell_type": "markdown",
   "metadata": {},
   "source": [
    "# ✨Hypothesis Testing for Diff of Mean"
   ]
  },
  {
   "cell_type": "code",
   "execution_count": 4,
   "metadata": {},
   "outputs": [],
   "source": [
    "mean_z = mean_x - mean_y\n",
    "std_z = (std_x**2/n + std_y**2/m)**0.5\n",
    "z_score = mean_z/std_z"
   ]
  },
  {
   "cell_type": "code",
   "execution_count": 17,
   "metadata": {
    "scrolled": false
   },
   "outputs": [
    {
     "data": {
      "text/plain": [
       "True"
      ]
     },
     "execution_count": 17,
     "metadata": {},
     "output_type": "execute_result"
    }
   ],
   "source": [
    "mean_z > scipy_stats.norm.interval(0.95,loc=0,scale=1)[1]*std_z"
   ]
  },
  {
   "cell_type": "markdown",
   "metadata": {},
   "source": [
    "# ✨Comparison of Sample Proportion 1\n",
    "# ✨Comparison of Sample Proportion 2"
   ]
  },
  {
   "cell_type": "markdown",
   "metadata": {},
   "source": [
    "`Sampling Distribution of a Sample Proportion`"
   ]
  },
  {
   "cell_type": "code",
   "execution_count": 2,
   "metadata": {},
   "outputs": [],
   "source": [
    "m = 1000\n",
    "p1 = 642/1000\n",
    "std_1 = p1*(1-p1)\n",
    "n = 1000\n",
    "p2 = 591/1000\n",
    "std_2 = p2*(1-p2)"
   ]
  },
  {
   "cell_type": "code",
   "execution_count": 16,
   "metadata": {},
   "outputs": [],
   "source": [
    "prop_z = p1-p2\n",
    "std_z = (std_1/m + std_2/n)**0.5\n",
    "z_score = prop_z/std_z"
   ]
  },
  {
   "cell_type": "code",
   "execution_count": 17,
   "metadata": {},
   "outputs": [
    {
     "data": {
      "text/plain": [
       "(0.008438760424625616, 0.09356123957537447)"
      ]
     },
     "execution_count": 17,
     "metadata": {},
     "output_type": "execute_result"
    }
   ],
   "source": [
    "scipy_stats.norm.interval(0.95,loc=prop_z,scale=std_z)"
   ]
  },
  {
   "cell_type": "markdown",
   "metadata": {},
   "source": [
    "# ✨Hypothesis Testing for Sample Proportion Difference"
   ]
  },
  {
   "cell_type": "code",
   "execution_count": 25,
   "metadata": {},
   "outputs": [
    {
     "data": {
      "text/plain": [
       "False"
      ]
     },
     "execution_count": 25,
     "metadata": {},
     "output_type": "execute_result"
    }
   ],
   "source": [
    "1- scipy_stats.norm.cdf(x=prop_z,loc=0,scale=std_z) > 0.05"
   ]
  },
  {
   "cell_type": "markdown",
   "metadata": {},
   "source": [
    "# ✨Square Error\n",
    "# ✨Derivation\n",
    "# ✨Derivation\n",
    "# ✨Derivation \n",
    "# ✨Derivation"
   ]
  },
  {
   "cell_type": "code",
   "execution_count": 23,
   "metadata": {},
   "outputs": [],
   "source": [
    "np.random.seed(30)\n",
    "X = np.random.randint(0,100,size=(100))\n",
    "y = X*3 + np.random.randn(100)"
   ]
  },
  {
   "cell_type": "code",
   "execution_count": 31,
   "metadata": {
    "scrolled": true
   },
   "outputs": [
    {
     "name": "stdout",
     "output_type": "stream",
     "text": [
      "[2.99530773] \n",
      " 0.2393129270823806\n"
     ]
    }
   ],
   "source": [
    "from sklearn.linear_model import LinearRegression\n",
    "mdl_lr = LinearRegression()\n",
    "mdl_lr.fit(X.reshape(100,1),y)\n",
    "print(mdl_lr.coef_,'\\n',mdl_lr.intercept_)"
   ]
  },
  {
   "cell_type": "code",
   "execution_count": 38,
   "metadata": {},
   "outputs": [
    {
     "data": {
      "text/plain": [
       "2.995307731938556"
      ]
     },
     "execution_count": 38,
     "metadata": {},
     "output_type": "execute_result"
    }
   ],
   "source": [
    "linear_coef = ((X.mean())*(y.mean())-(X*y).mean())/((X.mean())**2-(X**2).mean())\n",
    "linear_coef"
   ]
  },
  {
   "cell_type": "code",
   "execution_count": 40,
   "metadata": {},
   "outputs": [
    {
     "data": {
      "text/plain": [
       "0.23931292708255114"
      ]
     },
     "execution_count": 40,
     "metadata": {},
     "output_type": "execute_result"
    }
   ],
   "source": [
    "linear_inter = y.mean() - linear_coef*X.mean()\n",
    "linear_inter"
   ]
  },
  {
   "cell_type": "markdown",
   "metadata": {},
   "source": [
    "---"
   ]
  },
  {
   "cell_type": "markdown",
   "metadata": {},
   "source": [
    "🎈`Exponential Distribution`\n",
    "\n",
    "![](http://ww4.sinaimg.cn/mw690/6941baebgw1ereinwucxwj20ai01dgli.jpg)"
   ]
  },
  {
   "cell_type": "code",
   "execution_count": 13,
   "metadata": {
    "scrolled": true
   },
   "outputs": [
    {
     "data": {
      "text/plain": [
       "Text(0,0.5,'Probability Density')"
      ]
     },
     "execution_count": 13,
     "metadata": {},
     "output_type": "execute_result"
    },
    {
     "data": {
      "image/png": "[encoded data removed]",
      "text/plain": [
       "<Figure size 432x288 with 1 Axes>"
      ]
     },
     "metadata": {},
     "output_type": "display_data"
    }
   ],
   "source": [
    "lambd = 0.5\n",
    "x = np.arange(0,15,0.1)\n",
    "y = lambd*np.exp(-lambd*x)\n",
    "#y = scipy_stat.expon.pdf(x)\n",
    "\n",
    "plt.plot(x,y)\n",
    "plt.title('Exponential:$\\lambda$=%0.2f' % lambd)\n",
    "plt.xlabel('x')\n",
    "plt.ylabel('Probability Density')"
   ]
  }
 ],
 "metadata": {
  "anaconda-cloud": {},
  "kernelspec": {
   "display_name": "Python 3",
   "language": "python",
   "name": "python3"
  },
  "language_info": {
   "codemirror_mode": {
    "name": "ipython",
    "version": 3
   },
   "file_extension": ".py",
   "mimetype": "text/x-python",
   "name": "python",
   "nbconvert_exporter": "python",
   "pygments_lexer": "ipython3",
   "version": "3.6.5"
  },
  "latex_envs": {
   "LaTeX_envs_menu_present": true,
   "autoclose": false,
   "autocomplete": true,
   "bibliofile": "biblio.bib",
   "cite_by": "apalike",
   "current_citInitial": 1,
   "eqLabelWithNumbers": true,
   "eqNumInitial": 1,
   "hotkeys": {
    "equation": "Ctrl-E",
    "itemize": "Ctrl-I"
   },
   "labels_anchors": false,
   "latex_user_defs": false,
   "report_style_numbering": false,
   "user_envs_cfg": false
  },
  "toc": {
   "base_numbering": 1,
   "nav_menu": {},
   "number_sections": true,
   "sideBar": true,
   "skip_h1_title": false,
   "title_cell": "Table of Contents",
   "title_sidebar": "Contents",
   "toc_cell": false,
   "toc_position": {},
   "toc_section_display": "block",
   "toc_window_display": false
  }
 },
 "nbformat": 4,
 "nbformat_minor": 2
}
